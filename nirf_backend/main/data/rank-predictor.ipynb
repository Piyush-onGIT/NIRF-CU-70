{
 "cells": [
  {
   "cell_type": "code",
   "execution_count": 1,
   "metadata": {},
   "outputs": [],
   "source": [
    "import pandas as pd"
   ]
  },
  {
   "cell_type": "markdown",
   "metadata": {},
   "source": [
    "## Filtering excel sheet"
   ]
  },
  {
   "cell_type": "code",
   "execution_count": null,
   "metadata": {},
   "outputs": [],
   "source": [
    "df = pd.read_excel('./Gringotts.xlsx')\n",
    "excel_file = pd.ExcelFile('./Gringotts.xlsx')\n",
    "\n",
    "df['Numbers'] = df['College'].str.extract(r'(\\d+\\.\\d+\\s\\d+\\.\\d+\\s\\d+\\.\\d+\\s\\d+\\.\\d+\\s\\d+\\.\\d+)$')\n",
    "df[['TLR', 'RPC', 'GO', 'OI', 'PR']] = df['Numbers'].str.split().apply(pd.Series)\n",
    "df.drop(columns=['Numbers'], inplace=True)"
   ]
  },
  {
   "cell_type": "code",
   "execution_count": 29,
   "metadata": {},
   "outputs": [],
   "source": [
    "import re\n",
    "def extract_and_calculate_numbers(text):\n",
    "  # numbers = re.findall(r'\\d+\\.\\d+', text)\n",
    "  numbers = re.findall(r'\\d+(?:\\.\\d+)?', text)\n",
    "  numbers = numbers[5:]\n",
    "  if len(numbers) >= 5:\n",
    "      tlr = float(numbers[0])\n",
    "      rpc = float(numbers[1])\n",
    "      go = float(numbers[2])\n",
    "      oi = float(numbers[3])\n",
    "      pr = float(numbers[4])\n",
    "  else:\n",
    "      tlr, rpc, go, oi, pr = None, None, None, None, None\n",
    "  \n",
    "  return pd.Series({'TLR': tlr, 'RPC': rpc, 'GO': go, 'OI': oi, 'PR': pr})\n",
    "\n",
    "\n",
    "excel_file = pd.ExcelFile('./Gringotts.xlsx')\n",
    "df = pd.read_excel(excel_file, sheet_name=\"2016\")\n",
    "df[['TLR', 'RPC', 'GO', 'OI', 'PR']] = df['Name'].apply(extract_and_calculate_numbers)\n",
    "df\n",
    "\n",
    "# df['Numbers'] = df['Name'].str.extract(r'(\\d+\\.\\d+\\s\\d+\\.\\d+\\s\\d+\\.\\d+\\s\\d+\\.\\d+\\s\\d+\\.\\d+)$')\n",
    "# df[['TLR', 'RPC', 'GO', 'OI', 'PR']] = df['Numbers'].str.split().apply(pd.Series)\n",
    "# df.drop(columns=['Numbers'], inplace=True)\n",
    "df.to_excel('nirf/2016.xlsx', index=False)"
   ]
  },
  {
   "cell_type": "code",
   "execution_count": 2,
   "metadata": {},
   "outputs": [],
   "source": [
    "df = pd.read_excel('./nirf/2021.xlsx')\n",
    "df['Name'] = df['Name'].str.split('Close', expand=True)[0]\n",
    "df.to_excel('nirf/2021.xlsx')"
   ]
  },
  {
   "cell_type": "markdown",
   "metadata": {},
   "source": [
    "## Adding dummy data"
   ]
  },
  {
   "cell_type": "code",
   "execution_count": 2,
   "metadata": {},
   "outputs": [],
   "source": [
    "subtopic_weights = {\n",
    "    \"TLR\": {\"SS\": 20, \"FSR\": 30, \"FQE\": 20, \"FRU\": 30},\n",
    "    \"RPC\": {\"PU\": 35, \"QP\": 40, \"IPR\": 15, \"FPPP\": 10},\n",
    "    \"GO\": {\"GPH\": 40, \"GUE\": 15, \"GMS\": 25, \"GPHD\": 20},\n",
    "    \"OI\": {\"RD\": 30, \"WD\": 30, \"ESCS\": 20, \"PCS\": 20},\n",
    "}"
   ]
  },
  {
   "cell_type": "code",
   "execution_count": 31,
   "metadata": {},
   "outputs": [],
   "source": [
    "df = pd.read_excel('./nirf/xl/2021.xlsx')\n",
    "def add_dummy_data(df, property_name):\n",
    "    subtopics = list(subtopic_weights[property_name].keys())\n",
    "    total_value = df[property_name].values[0]\n",
    "\n",
    "    for subtopic in subtopics:\n",
    "        percentage = subtopic_weights[property_name][subtopic]\n",
    "        dummy_value = (percentage / 100) * total_value\n",
    "        df[subtopic] = dummy_value\n",
    "\n",
    "for property in subtopic_weights.keys():\n",
    "    add_dummy_data(df, property)\n",
    "\n",
    "df.to_csv('nirf/2021.csv')"
   ]
  },
  {
   "cell_type": "code",
   "execution_count": 39,
   "metadata": {},
   "outputs": [
    {
     "data": {
      "text/plain": [
       "False"
      ]
     },
     "execution_count": 39,
     "metadata": {},
     "output_type": "execute_result"
    }
   ],
   "source": [
    "df = pd.read_csv('./nirf/2023.csv')\n",
    "df.isna().any().any()"
   ]
  },
  {
   "cell_type": "markdown",
   "metadata": {},
   "source": [
    "## Rank prediction"
   ]
  },
  {
   "cell_type": "code",
   "execution_count": 15,
   "metadata": {},
   "outputs": [],
   "source": [
    "import numpy as np\n",
    "from sklearn.linear_model import LinearRegression\n",
    "from sklearn.ensemble import RandomForestRegressor\n",
    "from sklearn.metrics import mean_squared_error, r2_score\n",
    "from sklearn.model_selection import train_test_split"
   ]
  },
  {
   "cell_type": "code",
   "execution_count": 3,
   "metadata": {},
   "outputs": [],
   "source": [
    "weightage = {\n",
    "  'TLR': 0.30, \n",
    "  'RPC': 0.30, \n",
    "  'GO': 0.20, \n",
    "  'OI': 0.10, \n",
    "  'PR': 0.10\n",
    "}"
   ]
  },
  {
   "cell_type": "code",
   "execution_count": 47,
   "metadata": {},
   "outputs": [
    {
     "data": {
      "text/html": [
       "<div>\n",
       "<style scoped>\n",
       "    .dataframe tbody tr th:only-of-type {\n",
       "        vertical-align: middle;\n",
       "    }\n",
       "\n",
       "    .dataframe tbody tr th {\n",
       "        vertical-align: top;\n",
       "    }\n",
       "\n",
       "    .dataframe thead th {\n",
       "        text-align: right;\n",
       "    }\n",
       "</style>\n",
       "<table border=\"1\" class=\"dataframe\">\n",
       "  <thead>\n",
       "    <tr style=\"text-align: right;\">\n",
       "      <th></th>\n",
       "      <th>institute_id</th>\n",
       "      <th>name</th>\n",
       "      <th>tlr</th>\n",
       "      <th>rpc</th>\n",
       "      <th>go</th>\n",
       "      <th>oi</th>\n",
       "      <th>perception</th>\n",
       "      <th>city</th>\n",
       "      <th>state</th>\n",
       "      <th>rank</th>\n",
       "      <th>Weighted_Score</th>\n",
       "    </tr>\n",
       "  </thead>\n",
       "  <tbody>\n",
       "    <tr>\n",
       "      <th>34</th>\n",
       "      <td>IR-E-U-0410</td>\n",
       "      <td>Malaviya National Institute of Technology</td>\n",
       "      <td>71.41</td>\n",
       "      <td>41.69</td>\n",
       "      <td>59.89</td>\n",
       "      <td>54.40</td>\n",
       "      <td>8.95</td>\n",
       "      <td>Jaipur</td>\n",
       "      <td>Rajasthan</td>\n",
       "      <td>35</td>\n",
       "      <td>52.243</td>\n",
       "    </tr>\n",
       "    <tr>\n",
       "      <th>35</th>\n",
       "      <td>IR-E-U-0098</td>\n",
       "      <td>Delhi Technological University</td>\n",
       "      <td>63.36</td>\n",
       "      <td>31.12</td>\n",
       "      <td>73.21</td>\n",
       "      <td>53.07</td>\n",
       "      <td>36.91</td>\n",
       "      <td>New Delhi</td>\n",
       "      <td>Delhi</td>\n",
       "      <td>36</td>\n",
       "      <td>51.984</td>\n",
       "    </tr>\n",
       "    <tr>\n",
       "      <th>36</th>\n",
       "      <td>IR-E-U-0476</td>\n",
       "      <td>Shanmugha Arts Science Technology   Research A...</td>\n",
       "      <td>73.13</td>\n",
       "      <td>33.81</td>\n",
       "      <td>64.89</td>\n",
       "      <td>56.60</td>\n",
       "      <td>10.70</td>\n",
       "      <td>Thanjavur</td>\n",
       "      <td>Tamil Nadu</td>\n",
       "      <td>37</td>\n",
       "      <td>51.790</td>\n",
       "    </tr>\n",
       "    <tr>\n",
       "      <th>37</th>\n",
       "      <td>IR-E-U-0202</td>\n",
       "      <td>Birla Institute of Technology</td>\n",
       "      <td>70.07</td>\n",
       "      <td>34.81</td>\n",
       "      <td>58.75</td>\n",
       "      <td>51.57</td>\n",
       "      <td>30.48</td>\n",
       "      <td>Ranchi</td>\n",
       "      <td>Jharkhand</td>\n",
       "      <td>38</td>\n",
       "      <td>51.419</td>\n",
       "    </tr>\n",
       "    <tr>\n",
       "      <th>38</th>\n",
       "      <td>IR-E-U-0496</td>\n",
       "      <td>Aligarh Muslim University</td>\n",
       "      <td>70.58</td>\n",
       "      <td>45.83</td>\n",
       "      <td>56.57</td>\n",
       "      <td>40.89</td>\n",
       "      <td>10.70</td>\n",
       "      <td>Aligarh</td>\n",
       "      <td>Uttar Pradesh</td>\n",
       "      <td>39</td>\n",
       "      <td>51.396</td>\n",
       "    </tr>\n",
       "    <tr>\n",
       "      <th>...</th>\n",
       "      <td>...</td>\n",
       "      <td>...</td>\n",
       "      <td>...</td>\n",
       "      <td>...</td>\n",
       "      <td>...</td>\n",
       "      <td>...</td>\n",
       "      <td>...</td>\n",
       "      <td>...</td>\n",
       "      <td>...</td>\n",
       "      <td>...</td>\n",
       "      <td>...</td>\n",
       "    </tr>\n",
       "    <tr>\n",
       "      <th>195</th>\n",
       "      <td>IR-E-C-42227</td>\n",
       "      <td>Dr  D  Y  Patil Institute of Technology</td>\n",
       "      <td>49.69</td>\n",
       "      <td>1.66</td>\n",
       "      <td>53.63</td>\n",
       "      <td>48.50</td>\n",
       "      <td>1.63</td>\n",
       "      <td>Pune</td>\n",
       "      <td>Maharashtra</td>\n",
       "      <td>196</td>\n",
       "      <td>31.144</td>\n",
       "    </tr>\n",
       "    <tr>\n",
       "      <th>196</th>\n",
       "      <td>IR-E-C-49660</td>\n",
       "      <td>Pimpri Chinchwad College of Engineering</td>\n",
       "      <td>46.11</td>\n",
       "      <td>7.36</td>\n",
       "      <td>50.73</td>\n",
       "      <td>48.76</td>\n",
       "      <td>0.55</td>\n",
       "      <td>Pune</td>\n",
       "      <td>Maharashtra</td>\n",
       "      <td>197</td>\n",
       "      <td>31.118</td>\n",
       "    </tr>\n",
       "    <tr>\n",
       "      <th>197</th>\n",
       "      <td>IR-E-C-34167</td>\n",
       "      <td>Ramrao Adik Institute of Technology</td>\n",
       "      <td>53.60</td>\n",
       "      <td>3.82</td>\n",
       "      <td>45.75</td>\n",
       "      <td>47.25</td>\n",
       "      <td>0.00</td>\n",
       "      <td>Navi Mumbai</td>\n",
       "      <td>Maharashtra</td>\n",
       "      <td>198</td>\n",
       "      <td>31.101</td>\n",
       "    </tr>\n",
       "    <tr>\n",
       "      <th>198</th>\n",
       "      <td>IR-E-C-48145</td>\n",
       "      <td>BVRIT Hyderabad</td>\n",
       "      <td>49.16</td>\n",
       "      <td>0.46</td>\n",
       "      <td>53.74</td>\n",
       "      <td>52.98</td>\n",
       "      <td>1.63</td>\n",
       "      <td>Hyderabad</td>\n",
       "      <td>Telangana</td>\n",
       "      <td>199</td>\n",
       "      <td>31.095</td>\n",
       "    </tr>\n",
       "    <tr>\n",
       "      <th>199</th>\n",
       "      <td>IR-E-U-0615</td>\n",
       "      <td>National Institute of Technology Arunachal Pra...</td>\n",
       "      <td>50.56</td>\n",
       "      <td>9.06</td>\n",
       "      <td>39.36</td>\n",
       "      <td>46.21</td>\n",
       "      <td>7.12</td>\n",
       "      <td>Itanagar</td>\n",
       "      <td>Arunachal Pradesh</td>\n",
       "      <td>200</td>\n",
       "      <td>31.091</td>\n",
       "    </tr>\n",
       "  </tbody>\n",
       "</table>\n",
       "<p>166 rows × 11 columns</p>\n",
       "</div>"
      ],
      "text/plain": [
       "     institute_id                                               name    tlr  \\\n",
       "34    IR-E-U-0410          Malaviya National Institute of Technology  71.41   \n",
       "35    IR-E-U-0098                     Delhi Technological University  63.36   \n",
       "36    IR-E-U-0476  Shanmugha Arts Science Technology   Research A...  73.13   \n",
       "37    IR-E-U-0202                      Birla Institute of Technology  70.07   \n",
       "38    IR-E-U-0496                          Aligarh Muslim University  70.58   \n",
       "..            ...                                                ...    ...   \n",
       "195  IR-E-C-42227            Dr  D  Y  Patil Institute of Technology  49.69   \n",
       "196  IR-E-C-49660            Pimpri Chinchwad College of Engineering  46.11   \n",
       "197  IR-E-C-34167                Ramrao Adik Institute of Technology  53.60   \n",
       "198  IR-E-C-48145                                    BVRIT Hyderabad  49.16   \n",
       "199   IR-E-U-0615  National Institute of Technology Arunachal Pra...  50.56   \n",
       "\n",
       "       rpc     go     oi  perception         city              state  rank  \\\n",
       "34   41.69  59.89  54.40        8.95       Jaipur          Rajasthan    35   \n",
       "35   31.12  73.21  53.07       36.91    New Delhi              Delhi    36   \n",
       "36   33.81  64.89  56.60       10.70    Thanjavur         Tamil Nadu    37   \n",
       "37   34.81  58.75  51.57       30.48       Ranchi          Jharkhand    38   \n",
       "38   45.83  56.57  40.89       10.70      Aligarh      Uttar Pradesh    39   \n",
       "..     ...    ...    ...         ...          ...                ...   ...   \n",
       "195   1.66  53.63  48.50        1.63         Pune        Maharashtra   196   \n",
       "196   7.36  50.73  48.76        0.55         Pune        Maharashtra   197   \n",
       "197   3.82  45.75  47.25        0.00  Navi Mumbai        Maharashtra   198   \n",
       "198   0.46  53.74  52.98        1.63    Hyderabad          Telangana   199   \n",
       "199   9.06  39.36  46.21        7.12     Itanagar  Arunachal Pradesh   200   \n",
       "\n",
       "     Weighted_Score  \n",
       "34           52.243  \n",
       "35           51.984  \n",
       "36           51.790  \n",
       "37           51.419  \n",
       "38           51.396  \n",
       "..              ...  \n",
       "195          31.144  \n",
       "196          31.118  \n",
       "197          31.101  \n",
       "198          31.095  \n",
       "199          31.091  \n",
       "\n",
       "[166 rows x 11 columns]"
      ]
     },
     "execution_count": 47,
     "metadata": {},
     "output_type": "execute_result"
    }
   ],
   "source": [
    "df = pd.read_csv('./nirf/2020.csv')\n",
    "df = pd.read_csv(\"C:/Users/piyus/Downloads/archive/engineering.csv\")\n",
    "\n",
    "df['Weighted_Score'] = (\n",
    "  df['tlr'] * weightage['TLR'] +\n",
    "  df['rpc'] * weightage['RPC'] +\n",
    "  df['go'] * weightage['GO'] +\n",
    "  df['oi'] * weightage['OI'] +\n",
    "  df['perception'] * weightage['PR']\n",
    ")\n",
    "\n",
    "df[34:]"
   ]
  },
  {
   "cell_type": "code",
   "execution_count": 13,
   "metadata": {},
   "outputs": [],
   "source": [
    "X = df[['Weighted_Score']]\n",
    "y = df['rank']"
   ]
  },
  {
   "cell_type": "code",
   "execution_count": 21,
   "metadata": {},
   "outputs": [
    {
     "data": {
      "text/html": [
       "<style>#sk-container-id-3 {color: black;}#sk-container-id-3 pre{padding: 0;}#sk-container-id-3 div.sk-toggleable {background-color: white;}#sk-container-id-3 label.sk-toggleable__label {cursor: pointer;display: block;width: 100%;margin-bottom: 0;padding: 0.3em;box-sizing: border-box;text-align: center;}#sk-container-id-3 label.sk-toggleable__label-arrow:before {content: \"▸\";float: left;margin-right: 0.25em;color: #696969;}#sk-container-id-3 label.sk-toggleable__label-arrow:hover:before {color: black;}#sk-container-id-3 div.sk-estimator:hover label.sk-toggleable__label-arrow:before {color: black;}#sk-container-id-3 div.sk-toggleable__content {max-height: 0;max-width: 0;overflow: hidden;text-align: left;background-color: #f0f8ff;}#sk-container-id-3 div.sk-toggleable__content pre {margin: 0.2em;color: black;border-radius: 0.25em;background-color: #f0f8ff;}#sk-container-id-3 input.sk-toggleable__control:checked~div.sk-toggleable__content {max-height: 200px;max-width: 100%;overflow: auto;}#sk-container-id-3 input.sk-toggleable__control:checked~label.sk-toggleable__label-arrow:before {content: \"▾\";}#sk-container-id-3 div.sk-estimator input.sk-toggleable__control:checked~label.sk-toggleable__label {background-color: #d4ebff;}#sk-container-id-3 div.sk-label input.sk-toggleable__control:checked~label.sk-toggleable__label {background-color: #d4ebff;}#sk-container-id-3 input.sk-hidden--visually {border: 0;clip: rect(1px 1px 1px 1px);clip: rect(1px, 1px, 1px, 1px);height: 1px;margin: -1px;overflow: hidden;padding: 0;position: absolute;width: 1px;}#sk-container-id-3 div.sk-estimator {font-family: monospace;background-color: #f0f8ff;border: 1px dotted black;border-radius: 0.25em;box-sizing: border-box;margin-bottom: 0.5em;}#sk-container-id-3 div.sk-estimator:hover {background-color: #d4ebff;}#sk-container-id-3 div.sk-parallel-item::after {content: \"\";width: 100%;border-bottom: 1px solid gray;flex-grow: 1;}#sk-container-id-3 div.sk-label:hover label.sk-toggleable__label {background-color: #d4ebff;}#sk-container-id-3 div.sk-serial::before {content: \"\";position: absolute;border-left: 1px solid gray;box-sizing: border-box;top: 0;bottom: 0;left: 50%;z-index: 0;}#sk-container-id-3 div.sk-serial {display: flex;flex-direction: column;align-items: center;background-color: white;padding-right: 0.2em;padding-left: 0.2em;position: relative;}#sk-container-id-3 div.sk-item {position: relative;z-index: 1;}#sk-container-id-3 div.sk-parallel {display: flex;align-items: stretch;justify-content: center;background-color: white;position: relative;}#sk-container-id-3 div.sk-item::before, #sk-container-id-3 div.sk-parallel-item::before {content: \"\";position: absolute;border-left: 1px solid gray;box-sizing: border-box;top: 0;bottom: 0;left: 50%;z-index: -1;}#sk-container-id-3 div.sk-parallel-item {display: flex;flex-direction: column;z-index: 1;position: relative;background-color: white;}#sk-container-id-3 div.sk-parallel-item:first-child::after {align-self: flex-end;width: 50%;}#sk-container-id-3 div.sk-parallel-item:last-child::after {align-self: flex-start;width: 50%;}#sk-container-id-3 div.sk-parallel-item:only-child::after {width: 0;}#sk-container-id-3 div.sk-dashed-wrapped {border: 1px dashed gray;margin: 0 0.4em 0.5em 0.4em;box-sizing: border-box;padding-bottom: 0.4em;background-color: white;}#sk-container-id-3 div.sk-label label {font-family: monospace;font-weight: bold;display: inline-block;line-height: 1.2em;}#sk-container-id-3 div.sk-label-container {text-align: center;}#sk-container-id-3 div.sk-container {/* jupyter's `normalize.less` sets `[hidden] { display: none; }` but bootstrap.min.css set `[hidden] { display: none !important; }` so we also need the `!important` here to be able to override the default hidden behavior on the sphinx rendered scikit-learn.org. See: https://github.com/scikit-learn/scikit-learn/issues/21755 */display: inline-block !important;position: relative;}#sk-container-id-3 div.sk-text-repr-fallback {display: none;}</style><div id=\"sk-container-id-3\" class=\"sk-top-container\"><div class=\"sk-text-repr-fallback\"><pre>RandomForestRegressor(random_state=0)</pre><b>In a Jupyter environment, please rerun this cell to show the HTML representation or trust the notebook. <br />On GitHub, the HTML representation is unable to render, please try loading this page with nbviewer.org.</b></div><div class=\"sk-container\" hidden><div class=\"sk-item\"><div class=\"sk-estimator sk-toggleable\"><input class=\"sk-toggleable__control sk-hidden--visually\" id=\"sk-estimator-id-3\" type=\"checkbox\" checked><label for=\"sk-estimator-id-3\" class=\"sk-toggleable__label sk-toggleable__label-arrow\">RandomForestRegressor</label><div class=\"sk-toggleable__content\"><pre>RandomForestRegressor(random_state=0)</pre></div></div></div></div></div>"
      ],
      "text/plain": [
       "RandomForestRegressor(random_state=0)"
      ]
     },
     "execution_count": 21,
     "metadata": {},
     "output_type": "execute_result"
    }
   ],
   "source": [
    "model2 = RandomForestRegressor(n_estimators=100, random_state=0)\n",
    "model1 = LinearRegression()\n",
    "model1.fit(X, y)\n",
    "model2.fit(X, y)"
   ]
  },
  {
   "cell_type": "code",
   "execution_count": 51,
   "metadata": {},
   "outputs": [
    {
     "data": {
      "text/plain": [
       "0.3574649394229694"
      ]
     },
     "execution_count": 51,
     "metadata": {},
     "output_type": "execute_result"
    }
   ],
   "source": [
    "df1 = pd.read_csv('./nirf/2023.csv')\n",
    "scores = {'TLR': 30, 'RPC': 30, 'GO': 30, 'OI': 30, 'PR': 10}\n",
    "scores = pd.DataFrame(scores, index=[0])\n",
    "scores['Weighted_Score'] = (\n",
    "  scores['TLR'] * weightage['TLR'] +\n",
    "  scores['RPC'] * weightage['RPC'] +\n",
    "  scores['GO'] * weightage['GO'] +\n",
    "  scores['OI'] * weightage['OI'] +\n",
    "  scores['PR'] * weightage['PR']\n",
    ")\n",
    "predictions = model1.predict(scores[['Weighted_Score']])\n",
    "scores['Predicted_Rank1'] = predictions\n",
    "# scores['Predicted_Rank1_Round'] = scores['Predicted_Rank1'].apply(round)\n",
    "\n",
    "predictions = model2.predict(scores[['Weighted_Score']])\n",
    "scores['Predicted_Rank2'] = predictions\n",
    "# scores['Predicted_Rank2_Round'] = scores['Predicted_Rank2'].apply(round)\n",
    "# df1 = df1.sort_values(by='Predicted_Rank')\n",
    "# df1.reset_index(drop=True, inplace=True)\n",
    "scores\n",
    "# current_year_data = current_year_data.sort_values(by='Predicted_Rank')\n",
    "\n",
    "rmse = np.sqrt(mean_squared_error(y, model2.predict(X)))\n",
    "rmse"
   ]
  }
 ],
 "metadata": {
  "kernelspec": {
   "display_name": "Python 3",
   "language": "python",
   "name": "python3"
  },
  "language_info": {
   "codemirror_mode": {
    "name": "ipython",
    "version": 3
   },
   "file_extension": ".py",
   "mimetype": "text/x-python",
   "name": "python",
   "nbconvert_exporter": "python",
   "pygments_lexer": "ipython3",
   "version": "3.11.4"
  }
 },
 "nbformat": 4,
 "nbformat_minor": 2
}
