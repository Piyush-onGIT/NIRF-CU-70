{
 "cells": [
  {
   "cell_type": "code",
   "execution_count": 1,
   "metadata": {},
   "outputs": [],
   "source": [
    "import pandas as pd"
   ]
  },
  {
   "cell_type": "markdown",
   "metadata": {},
   "source": [
    "## Filtering excel sheet"
   ]
  },
  {
   "cell_type": "code",
   "execution_count": null,
   "metadata": {},
   "outputs": [],
   "source": [
    "df = pd.read_excel('./Gringotts.xlsx')\n",
    "excel_file = pd.ExcelFile('./Gringotts.xlsx')\n",
    "\n",
    "df['Numbers'] = df['College'].str.extract(r'(\\d+\\.\\d+\\s\\d+\\.\\d+\\s\\d+\\.\\d+\\s\\d+\\.\\d+\\s\\d+\\.\\d+)$')\n",
    "df[['TLR', 'RPC', 'GO', 'OI', 'PR']] = df['Numbers'].str.split().apply(pd.Series)\n",
    "df.drop(columns=['Numbers'], inplace=True)"
   ]
  },
  {
   "cell_type": "code",
   "execution_count": 29,
   "metadata": {},
   "outputs": [],
   "source": [
    "import re\n",
    "def extract_and_calculate_numbers(text):\n",
    "  # numbers = re.findall(r'\\d+\\.\\d+', text)\n",
    "  numbers = re.findall(r'\\d+(?:\\.\\d+)?', text)\n",
    "  numbers = numbers[5:]\n",
    "  if len(numbers) >= 5:\n",
    "      tlr = float(numbers[0])\n",
    "      rpc = float(numbers[1])\n",
    "      go = float(numbers[2])\n",
    "      oi = float(numbers[3])\n",
    "      pr = float(numbers[4])\n",
    "  else:\n",
    "      tlr, rpc, go, oi, pr = None, None, None, None, None\n",
    "  \n",
    "  return pd.Series({'TLR': tlr, 'RPC': rpc, 'GO': go, 'OI': oi, 'PR': pr})\n",
    "\n",
    "\n",
    "excel_file = pd.ExcelFile('./Gringotts.xlsx')\n",
    "df = pd.read_excel(excel_file, sheet_name=\"2016\")\n",
    "df[['TLR', 'RPC', 'GO', 'OI', 'PR']] = df['Name'].apply(extract_and_calculate_numbers)\n",
    "df\n",
    "\n",
    "# df['Numbers'] = df['Name'].str.extract(r'(\\d+\\.\\d+\\s\\d+\\.\\d+\\s\\d+\\.\\d+\\s\\d+\\.\\d+\\s\\d+\\.\\d+)$')\n",
    "# df[['TLR', 'RPC', 'GO', 'OI', 'PR']] = df['Numbers'].str.split().apply(pd.Series)\n",
    "# df.drop(columns=['Numbers'], inplace=True)\n",
    "df.to_excel('nirf/2016.xlsx', index=False)"
   ]
  },
  {
   "cell_type": "code",
   "execution_count": 2,
   "metadata": {},
   "outputs": [],
   "source": [
    "df = pd.read_excel('./nirf/2021.xlsx')\n",
    "df['Name'] = df['Name'].str.split('Close', expand=True)[0]\n",
    "df.to_excel('nirf/2021.xlsx')"
   ]
  },
  {
   "cell_type": "markdown",
   "metadata": {},
   "source": [
    "## Adding dummy data"
   ]
  },
  {
   "cell_type": "code",
   "execution_count": 27,
   "metadata": {},
   "outputs": [],
   "source": [
    "subtopic_weights = {\n",
    "    \"TLR\": {\"SS\": 20, \"FSR\": 30, \"FQE\": 20, \"FRU\": 30},\n",
    "    \"RPC\": {\"PU\": 35, \"QP\": 40, \"IPR\": 15, \"FPPP\": 10},\n",
    "    \"GO\": {\"GPH\": 40, \"GUE\": 15, \"GMS\": 25, \"GPHD\": 20},\n",
    "    \"OI\": {\"RD\": 30, \"WD\": 30, \"ESCS\": 20, \"PCS\": 20},\n",
    "}"
   ]
  },
  {
   "cell_type": "code",
   "execution_count": 31,
   "metadata": {},
   "outputs": [],
   "source": [
    "df = pd.read_excel('./nirf/xl/2017.xlsx')\n",
    "def add_dummy_data(df, property_name):\n",
    "    subtopics = list(subtopic_weights[property_name].keys())\n",
    "    total_value = df[property_name].values[0]\n",
    "\n",
    "    for subtopic in subtopics:\n",
    "        percentage = subtopic_weights[property_name][subtopic]\n",
    "        dummy_value = (percentage / 100) * total_value\n",
    "        df[subtopic] = dummy_value\n",
    "\n",
    "for property in subtopic_weights.keys():\n",
    "    add_dummy_data(df, property)\n",
    "\n",
    "df.to_csv('nirf/2017.csv')"
   ]
  },
  {
   "cell_type": "code",
   "execution_count": 39,
   "metadata": {},
   "outputs": [
    {
     "data": {
      "text/plain": [
       "False"
      ]
     },
     "execution_count": 39,
     "metadata": {},
     "output_type": "execute_result"
    }
   ],
   "source": [
    "df = pd.read_csv('./nirf/2023.csv')\n",
    "df.isna().any().any()"
   ]
  },
  {
   "cell_type": "markdown",
   "metadata": {},
   "source": [
    "## Rank prediction"
   ]
  },
  {
   "cell_type": "code",
   "execution_count": 106,
   "metadata": {},
   "outputs": [],
   "source": [
    "import numpy as np\n",
    "from sklearn.linear_model import LinearRegression\n",
    "from sklearn.ensemble import RandomForestRegressor\n",
    "from sklearn.metrics import mean_squared_error, r2_score\n",
    "from sklearn.model_selection import train_test_split"
   ]
  },
  {
   "cell_type": "code",
   "execution_count": 2,
   "metadata": {},
   "outputs": [],
   "source": [
    "weightage = {\n",
    "  'TLR': 0.30, \n",
    "  'RPC': 0.30, \n",
    "  'GO': 0.20, \n",
    "  'OI': 0.10, \n",
    "  'PR': 0.10\n",
    "}"
   ]
  },
  {
   "cell_type": "code",
   "execution_count": 115,
   "metadata": {},
   "outputs": [
    {
     "data": {
      "text/html": [
       "<div>\n",
       "<style scoped>\n",
       "    .dataframe tbody tr th:only-of-type {\n",
       "        vertical-align: middle;\n",
       "    }\n",
       "\n",
       "    .dataframe tbody tr th {\n",
       "        vertical-align: top;\n",
       "    }\n",
       "\n",
       "    .dataframe thead th {\n",
       "        text-align: right;\n",
       "    }\n",
       "</style>\n",
       "<table border=\"1\" class=\"dataframe\">\n",
       "  <thead>\n",
       "    <tr style=\"text-align: right;\">\n",
       "      <th></th>\n",
       "      <th>Institute ID</th>\n",
       "      <th>Name</th>\n",
       "      <th>City</th>\n",
       "      <th>State</th>\n",
       "      <th>Score</th>\n",
       "      <th>Rank</th>\n",
       "      <th>TLR</th>\n",
       "      <th>RPC</th>\n",
       "      <th>GO</th>\n",
       "      <th>OI</th>\n",
       "      <th>...</th>\n",
       "      <th>FPPP</th>\n",
       "      <th>GPH</th>\n",
       "      <th>GUE</th>\n",
       "      <th>GMS</th>\n",
       "      <th>GPHD</th>\n",
       "      <th>RD</th>\n",
       "      <th>WD</th>\n",
       "      <th>ESCS</th>\n",
       "      <th>PCS</th>\n",
       "      <th>Weighted_Score</th>\n",
       "    </tr>\n",
       "  </thead>\n",
       "  <tbody>\n",
       "    <tr>\n",
       "      <th>0</th>\n",
       "      <td>IR-E-U-0456</td>\n",
       "      <td>Indian Institute of Technology Madras</td>\n",
       "      <td>Chennai</td>\n",
       "      <td>Tamil Nadu</td>\n",
       "      <td>89.93</td>\n",
       "      <td>1</td>\n",
       "      <td>95.42</td>\n",
       "      <td>94.64</td>\n",
       "      <td>83.90</td>\n",
       "      <td>61.31</td>\n",
       "      <td>...</td>\n",
       "      <td>9.464</td>\n",
       "      <td>33.56</td>\n",
       "      <td>12.585</td>\n",
       "      <td>20.975</td>\n",
       "      <td>16.78</td>\n",
       "      <td>18.393</td>\n",
       "      <td>18.393</td>\n",
       "      <td>12.262</td>\n",
       "      <td>12.262</td>\n",
       "      <td>89.929</td>\n",
       "    </tr>\n",
       "    <tr>\n",
       "      <th>1</th>\n",
       "      <td>IR-E-I-1074</td>\n",
       "      <td>Indian Institute of Technology Delhi</td>\n",
       "      <td>New Delhi</td>\n",
       "      <td>Delhi</td>\n",
       "      <td>88.08</td>\n",
       "      <td>2</td>\n",
       "      <td>90.79</td>\n",
       "      <td>96.15</td>\n",
       "      <td>80.36</td>\n",
       "      <td>64.81</td>\n",
       "      <td>...</td>\n",
       "      <td>9.464</td>\n",
       "      <td>33.56</td>\n",
       "      <td>12.585</td>\n",
       "      <td>20.975</td>\n",
       "      <td>16.78</td>\n",
       "      <td>18.393</td>\n",
       "      <td>18.393</td>\n",
       "      <td>12.262</td>\n",
       "      <td>12.262</td>\n",
       "      <td>88.081</td>\n",
       "    </tr>\n",
       "    <tr>\n",
       "      <th>2</th>\n",
       "      <td>IR-E-U-0306</td>\n",
       "      <td>Indian Institute of Technology Bombay</td>\n",
       "      <td>Mumbai</td>\n",
       "      <td>Maharashtra</td>\n",
       "      <td>85.08</td>\n",
       "      <td>3</td>\n",
       "      <td>91.00</td>\n",
       "      <td>93.37</td>\n",
       "      <td>77.60</td>\n",
       "      <td>49.99</td>\n",
       "      <td>...</td>\n",
       "      <td>9.464</td>\n",
       "      <td>33.56</td>\n",
       "      <td>12.585</td>\n",
       "      <td>20.975</td>\n",
       "      <td>16.78</td>\n",
       "      <td>18.393</td>\n",
       "      <td>18.393</td>\n",
       "      <td>12.262</td>\n",
       "      <td>12.262</td>\n",
       "      <td>85.081</td>\n",
       "    </tr>\n",
       "    <tr>\n",
       "      <th>3</th>\n",
       "      <td>IR-E-I-1075</td>\n",
       "      <td>Indian Institute of Technology Kanpur</td>\n",
       "      <td>Kanpur</td>\n",
       "      <td>Uttar Pradesh</td>\n",
       "      <td>82.18</td>\n",
       "      <td>4</td>\n",
       "      <td>86.22</td>\n",
       "      <td>82.08</td>\n",
       "      <td>88.44</td>\n",
       "      <td>54.21</td>\n",
       "      <td>...</td>\n",
       "      <td>9.464</td>\n",
       "      <td>33.56</td>\n",
       "      <td>12.585</td>\n",
       "      <td>20.975</td>\n",
       "      <td>16.78</td>\n",
       "      <td>18.393</td>\n",
       "      <td>18.393</td>\n",
       "      <td>12.262</td>\n",
       "      <td>12.262</td>\n",
       "      <td>82.177</td>\n",
       "    </tr>\n",
       "    <tr>\n",
       "      <th>4</th>\n",
       "      <td>IR-E-U-0573</td>\n",
       "      <td>Indian Institute of Technology Kharagpur</td>\n",
       "      <td>Kharagpur</td>\n",
       "      <td>West Bengal</td>\n",
       "      <td>80.56</td>\n",
       "      <td>5</td>\n",
       "      <td>77.32</td>\n",
       "      <td>87.11</td>\n",
       "      <td>83.21</td>\n",
       "      <td>56.62</td>\n",
       "      <td>...</td>\n",
       "      <td>9.464</td>\n",
       "      <td>33.56</td>\n",
       "      <td>12.585</td>\n",
       "      <td>20.975</td>\n",
       "      <td>16.78</td>\n",
       "      <td>18.393</td>\n",
       "      <td>18.393</td>\n",
       "      <td>12.262</td>\n",
       "      <td>12.262</td>\n",
       "      <td>80.564</td>\n",
       "    </tr>\n",
       "  </tbody>\n",
       "</table>\n",
       "<p>5 rows × 28 columns</p>\n",
       "</div>"
      ],
      "text/plain": [
       "  Institute ID                                      Name       City  \\\n",
       "0  IR-E-U-0456     Indian Institute of Technology Madras    Chennai   \n",
       "1  IR-E-I-1074      Indian Institute of Technology Delhi  New Delhi   \n",
       "2  IR-E-U-0306     Indian Institute of Technology Bombay     Mumbai   \n",
       "3  IR-E-I-1075     Indian Institute of Technology Kanpur     Kanpur   \n",
       "4  IR-E-U-0573  Indian Institute of Technology Kharagpur  Kharagpur   \n",
       "\n",
       "           State  Score  Rank    TLR    RPC     GO     OI  ...   FPPP    GPH  \\\n",
       "0     Tamil Nadu  89.93     1  95.42  94.64  83.90  61.31  ...  9.464  33.56   \n",
       "1          Delhi  88.08     2  90.79  96.15  80.36  64.81  ...  9.464  33.56   \n",
       "2    Maharashtra  85.08     3  91.00  93.37  77.60  49.99  ...  9.464  33.56   \n",
       "3  Uttar Pradesh  82.18     4  86.22  82.08  88.44  54.21  ...  9.464  33.56   \n",
       "4    West Bengal  80.56     5  77.32  87.11  83.21  56.62  ...  9.464  33.56   \n",
       "\n",
       "      GUE     GMS   GPHD      RD      WD    ESCS     PCS  Weighted_Score  \n",
       "0  12.585  20.975  16.78  18.393  18.393  12.262  12.262          89.929  \n",
       "1  12.585  20.975  16.78  18.393  18.393  12.262  12.262          88.081  \n",
       "2  12.585  20.975  16.78  18.393  18.393  12.262  12.262          85.081  \n",
       "3  12.585  20.975  16.78  18.393  18.393  12.262  12.262          82.177  \n",
       "4  12.585  20.975  16.78  18.393  18.393  12.262  12.262          80.564  \n",
       "\n",
       "[5 rows x 28 columns]"
      ]
     },
     "execution_count": 115,
     "metadata": {},
     "output_type": "execute_result"
    }
   ],
   "source": [
    "df = pd.read_csv('./nirf/2020.csv')\n",
    "\n",
    "df['Weighted_Score'] = (\n",
    "  df['TLR'] * weightage['TLR'] +\n",
    "  df['RPC'] * weightage['RPC'] +\n",
    "  df['GO'] * weightage['GO'] +\n",
    "  df['OI'] * weightage['OI'] +\n",
    "  df['PR'] * weightage['PR']\n",
    ")\n",
    "\n",
    "df.head()"
   ]
  },
  {
   "cell_type": "code",
   "execution_count": 116,
   "metadata": {},
   "outputs": [],
   "source": [
    "X = df[['Weighted_Score']]\n",
    "y = df['Rank']"
   ]
  },
  {
   "cell_type": "code",
   "execution_count": 117,
   "metadata": {},
   "outputs": [
    {
     "data": {
      "text/html": [
       "<style>#sk-container-id-11 {color: black;}#sk-container-id-11 pre{padding: 0;}#sk-container-id-11 div.sk-toggleable {background-color: white;}#sk-container-id-11 label.sk-toggleable__label {cursor: pointer;display: block;width: 100%;margin-bottom: 0;padding: 0.3em;box-sizing: border-box;text-align: center;}#sk-container-id-11 label.sk-toggleable__label-arrow:before {content: \"▸\";float: left;margin-right: 0.25em;color: #696969;}#sk-container-id-11 label.sk-toggleable__label-arrow:hover:before {color: black;}#sk-container-id-11 div.sk-estimator:hover label.sk-toggleable__label-arrow:before {color: black;}#sk-container-id-11 div.sk-toggleable__content {max-height: 0;max-width: 0;overflow: hidden;text-align: left;background-color: #f0f8ff;}#sk-container-id-11 div.sk-toggleable__content pre {margin: 0.2em;color: black;border-radius: 0.25em;background-color: #f0f8ff;}#sk-container-id-11 input.sk-toggleable__control:checked~div.sk-toggleable__content {max-height: 200px;max-width: 100%;overflow: auto;}#sk-container-id-11 input.sk-toggleable__control:checked~label.sk-toggleable__label-arrow:before {content: \"▾\";}#sk-container-id-11 div.sk-estimator input.sk-toggleable__control:checked~label.sk-toggleable__label {background-color: #d4ebff;}#sk-container-id-11 div.sk-label input.sk-toggleable__control:checked~label.sk-toggleable__label {background-color: #d4ebff;}#sk-container-id-11 input.sk-hidden--visually {border: 0;clip: rect(1px 1px 1px 1px);clip: rect(1px, 1px, 1px, 1px);height: 1px;margin: -1px;overflow: hidden;padding: 0;position: absolute;width: 1px;}#sk-container-id-11 div.sk-estimator {font-family: monospace;background-color: #f0f8ff;border: 1px dotted black;border-radius: 0.25em;box-sizing: border-box;margin-bottom: 0.5em;}#sk-container-id-11 div.sk-estimator:hover {background-color: #d4ebff;}#sk-container-id-11 div.sk-parallel-item::after {content: \"\";width: 100%;border-bottom: 1px solid gray;flex-grow: 1;}#sk-container-id-11 div.sk-label:hover label.sk-toggleable__label {background-color: #d4ebff;}#sk-container-id-11 div.sk-serial::before {content: \"\";position: absolute;border-left: 1px solid gray;box-sizing: border-box;top: 0;bottom: 0;left: 50%;z-index: 0;}#sk-container-id-11 div.sk-serial {display: flex;flex-direction: column;align-items: center;background-color: white;padding-right: 0.2em;padding-left: 0.2em;position: relative;}#sk-container-id-11 div.sk-item {position: relative;z-index: 1;}#sk-container-id-11 div.sk-parallel {display: flex;align-items: stretch;justify-content: center;background-color: white;position: relative;}#sk-container-id-11 div.sk-item::before, #sk-container-id-11 div.sk-parallel-item::before {content: \"\";position: absolute;border-left: 1px solid gray;box-sizing: border-box;top: 0;bottom: 0;left: 50%;z-index: -1;}#sk-container-id-11 div.sk-parallel-item {display: flex;flex-direction: column;z-index: 1;position: relative;background-color: white;}#sk-container-id-11 div.sk-parallel-item:first-child::after {align-self: flex-end;width: 50%;}#sk-container-id-11 div.sk-parallel-item:last-child::after {align-self: flex-start;width: 50%;}#sk-container-id-11 div.sk-parallel-item:only-child::after {width: 0;}#sk-container-id-11 div.sk-dashed-wrapped {border: 1px dashed gray;margin: 0 0.4em 0.5em 0.4em;box-sizing: border-box;padding-bottom: 0.4em;background-color: white;}#sk-container-id-11 div.sk-label label {font-family: monospace;font-weight: bold;display: inline-block;line-height: 1.2em;}#sk-container-id-11 div.sk-label-container {text-align: center;}#sk-container-id-11 div.sk-container {/* jupyter's `normalize.less` sets `[hidden] { display: none; }` but bootstrap.min.css set `[hidden] { display: none !important; }` so we also need the `!important` here to be able to override the default hidden behavior on the sphinx rendered scikit-learn.org. See: https://github.com/scikit-learn/scikit-learn/issues/21755 */display: inline-block !important;position: relative;}#sk-container-id-11 div.sk-text-repr-fallback {display: none;}</style><div id=\"sk-container-id-11\" class=\"sk-top-container\"><div class=\"sk-text-repr-fallback\"><pre>RandomForestRegressor(random_state=0)</pre><b>In a Jupyter environment, please rerun this cell to show the HTML representation or trust the notebook. <br />On GitHub, the HTML representation is unable to render, please try loading this page with nbviewer.org.</b></div><div class=\"sk-container\" hidden><div class=\"sk-item\"><div class=\"sk-estimator sk-toggleable\"><input class=\"sk-toggleable__control sk-hidden--visually\" id=\"sk-estimator-id-11\" type=\"checkbox\" checked><label for=\"sk-estimator-id-11\" class=\"sk-toggleable__label sk-toggleable__label-arrow\">RandomForestRegressor</label><div class=\"sk-toggleable__content\"><pre>RandomForestRegressor(random_state=0)</pre></div></div></div></div></div>"
      ],
      "text/plain": [
       "RandomForestRegressor(random_state=0)"
      ]
     },
     "execution_count": 117,
     "metadata": {},
     "output_type": "execute_result"
    }
   ],
   "source": [
    "model2 = RandomForestRegressor(n_estimators=100, random_state=0)\n",
    "model1 = LinearRegression()\n",
    "model1.fit(X, y)\n",
    "model2.fit(X, y)"
   ]
  },
  {
   "cell_type": "code",
   "execution_count": 118,
   "metadata": {},
   "outputs": [
    {
     "data": {
      "text/html": [
       "<div>\n",
       "<style scoped>\n",
       "    .dataframe tbody tr th:only-of-type {\n",
       "        vertical-align: middle;\n",
       "    }\n",
       "\n",
       "    .dataframe tbody tr th {\n",
       "        vertical-align: top;\n",
       "    }\n",
       "\n",
       "    .dataframe thead th {\n",
       "        text-align: right;\n",
       "    }\n",
       "</style>\n",
       "<table border=\"1\" class=\"dataframe\">\n",
       "  <thead>\n",
       "    <tr style=\"text-align: right;\">\n",
       "      <th></th>\n",
       "      <th>TLR</th>\n",
       "      <th>RPC</th>\n",
       "      <th>GO</th>\n",
       "      <th>OI</th>\n",
       "      <th>PR</th>\n",
       "      <th>Weighted_Score</th>\n",
       "      <th>Predicted_Rank1</th>\n",
       "      <th>Predicted_Rank2</th>\n",
       "    </tr>\n",
       "  </thead>\n",
       "  <tbody>\n",
       "    <tr>\n",
       "      <th>0</th>\n",
       "      <td>10</td>\n",
       "      <td>20</td>\n",
       "      <td>20</td>\n",
       "      <td>25</td>\n",
       "      <td>30</td>\n",
       "      <td>18.5</td>\n",
       "      <td>199.587357</td>\n",
       "      <td>199.49</td>\n",
       "    </tr>\n",
       "  </tbody>\n",
       "</table>\n",
       "</div>"
      ],
      "text/plain": [
       "   TLR  RPC  GO  OI  PR  Weighted_Score  Predicted_Rank1  Predicted_Rank2\n",
       "0   10   20  20  25  30            18.5       199.587357           199.49"
      ]
     },
     "execution_count": 118,
     "metadata": {},
     "output_type": "execute_result"
    }
   ],
   "source": [
    "df1 = pd.read_csv('./nirf/2023.csv')\n",
    "scores = {'TLR': 10, 'RPC': 20, 'GO': 20, 'OI': 25, 'PR': 30}\n",
    "scores = pd.DataFrame(scores, index=[0])\n",
    "scores['Weighted_Score'] = (\n",
    "  scores['TLR'] * weightage['TLR'] +\n",
    "  scores['RPC'] * weightage['RPC'] +\n",
    "  scores['GO'] * weightage['GO'] +\n",
    "  scores['OI'] * weightage['OI'] +\n",
    "  scores['PR'] * weightage['PR']\n",
    ")\n",
    "predictions = model1.predict(scores[['Weighted_Score']])\n",
    "scores['Predicted_Rank1'] = predictions\n",
    "# scores['Predicted_Rank1_Round'] = scores['Predicted_Rank1'].apply(round)\n",
    "\n",
    "predictions = model2.predict(scores[['Weighted_Score']])\n",
    "scores['Predicted_Rank2'] = predictions\n",
    "# scores['Predicted_Rank2_Round'] = scores['Predicted_Rank2'].apply(round)\n",
    "# df1 = df1.sort_values(by='Predicted_Rank')\n",
    "# df1.reset_index(drop=True, inplace=True)\n",
    "scores\n",
    "# current_year_data = current_year_data.sort_values(by='Predicted_Rank')"
   ]
  }
 ],
 "metadata": {
  "kernelspec": {
   "display_name": "Python 3",
   "language": "python",
   "name": "python3"
  },
  "language_info": {
   "codemirror_mode": {
    "name": "ipython",
    "version": 3
   },
   "file_extension": ".py",
   "mimetype": "text/x-python",
   "name": "python",
   "nbconvert_exporter": "python",
   "pygments_lexer": "ipython3",
   "version": "3.11.4"
  }
 },
 "nbformat": 4,
 "nbformat_minor": 2
}
